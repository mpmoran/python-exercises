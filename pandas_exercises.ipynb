{
 "cells": [
  {
   "cell_type": "markdown",
   "metadata": {},
   "source": [
    "# Pandas Exercises"
   ]
  },
  {
   "cell_type": "markdown",
   "metadata": {},
   "source": [
    "## Basics"
   ]
  },
  {
   "cell_type": "code",
   "execution_count": 166,
   "metadata": {},
   "outputs": [],
   "source": [
    "# 1. Import pandas and numpy\n",
    "%matplotlib inline\n",
    "import matplotlib.pyplot as plt\n",
    "import numpy as np\n",
    "import pandas as pd"
   ]
  },
  {
   "cell_type": "code",
   "execution_count": 167,
   "metadata": {},
   "outputs": [
    {
     "name": "stdout",
     "output_type": "stream",
     "text": [
      "    Number     Name Seating_Location  Shoe_Size  Favorite_Number\n",
      "0        1    Sally             left        8.5                5\n",
      "1        2     Jane             left       13.5                7\n",
      "2        3    Suzie             left        9.0                9\n",
      "3        4    Billy             left       10.0                5\n",
      "4        5      Ada             left        9.0                7\n",
      "5        6     John            right       10.5                4\n",
      "6        7   Thomas             left       10.0                2\n",
      "7        8    Marie             left       11.0                9\n",
      "8        9   Albert            right        8.5                7\n",
      "9       10  Richard            right       13.0                8\n",
      "10      11    Isaac            right        9.0                1\n",
      "11      12     Alan            right        8.0                5\n"
     ]
    }
   ],
   "source": [
    "# 2. Use the code below to generate a data frame for students\n",
    "# Your data frame should include the student number, student name, shoe_size, and favorite number.\n",
    "\n",
    "# Store your data frame in a variable named students\n",
    "\n",
    "student_names = ['Sally', 'Jane', 'Suzie', 'Billy', 'Ada', 'John', 'Thomas',\n",
    "                 'Marie', 'Albert', 'Richard', 'Isaac', 'Alan']\n",
    "\n",
    "student_number = list(range(1, len(student_names) + 1))\n",
    "shoe_sizes = np.random.choice(np.arange(6, 14, 0.5), len(student_names))\n",
    "side_of_classroom = np.random.choice(['left', 'right'], len(student_names))\n",
    "favorite_number = np.random.randint(1, 11, len(student_names))\n",
    "\n",
    "students = pd.DataFrame({\"Number\": student_number,\n",
    "                         \"Name\": student_names,\n",
    "                         \"Seating_Location\": side_of_classroom,\n",
    "                         \"Shoe_Size\": shoe_sizes,\n",
    "                         \"Favorite_Number\": favorite_number})\n",
    "print(students)"
   ]
  },
  {
   "cell_type": "code",
   "execution_count": 168,
   "metadata": {},
   "outputs": [
    {
     "name": "stdout",
     "output_type": "stream",
     "text": [
      "(12, 5)\n"
     ]
    }
   ],
   "source": [
    "# 3. Print out the shape of the data frame.\n",
    "print(students.shape)"
   ]
  },
  {
   "cell_type": "code",
   "execution_count": 169,
   "metadata": {},
   "outputs": [
    {
     "name": "stdout",
     "output_type": "stream",
     "text": [
      "Number, Name, Seating_Location, Shoe_Size, Favorite_Number\n"
     ]
    }
   ],
   "source": [
    "# 4. Print out the names of the columns in the data frame.\n",
    "print(\", \".join(students.columns))"
   ]
  },
  {
   "cell_type": "code",
   "execution_count": 170,
   "metadata": {},
   "outputs": [
    {
     "name": "stdout",
     "output_type": "stream",
     "text": [
      "    No. First_Name Seating_Location  Shoe_Size  Favorite_Number\n",
      "0     1      Sally             left        8.5                5\n",
      "1     2       Jane             left       13.5                7\n",
      "2     3      Suzie             left        9.0                9\n",
      "3     4      Billy             left       10.0                5\n",
      "4     5        Ada             left        9.0                7\n",
      "5     6       John            right       10.5                4\n",
      "6     7     Thomas             left       10.0                2\n",
      "7     8      Marie             left       11.0                9\n",
      "8     9     Albert            right        8.5                7\n",
      "9    10    Richard            right       13.0                8\n",
      "10   11      Isaac            right        9.0                1\n",
      "11   12       Alan            right        8.0                5\n"
     ]
    }
   ],
   "source": [
    "# 5. Rename 2 of the columns in your data frame.\n",
    "print(students.rename(columns={'Number': 'No.', 'Name': 'First_Name'}))"
   ]
  },
  {
   "cell_type": "code",
   "execution_count": 171,
   "metadata": {},
   "outputs": [
    {
     "name": "stdout",
     "output_type": "stream",
     "text": [
      "    Shoe_Size Seating_Location\n",
      "0         8.5             left\n",
      "1        13.5             left\n",
      "2         9.0             left\n",
      "3        10.0             left\n",
      "4         9.0             left\n",
      "5        10.5            right\n",
      "6        10.0             left\n",
      "7        11.0             left\n",
      "8         8.5            right\n",
      "9        13.0            right\n",
      "10        9.0            right\n",
      "11        8.0            right\n"
     ]
    }
   ],
   "source": [
    "# 6. Create a new data frame based on the one you have. The new data frame should only have\n",
    "# columns for shoe size and side of the classroom.\n",
    "students_shoe_seating = students[[\"Shoe_Size\", \"Seating_Location\"]]\n",
    "print(students_shoe_seating)"
   ]
  },
  {
   "cell_type": "code",
   "execution_count": 172,
   "metadata": {},
   "outputs": [
    {
     "name": "stdout",
     "output_type": "stream",
     "text": [
      "   Number   Name Seating_Location  Shoe_Size  Favorite_Number\n",
      "0       1  Sally             left        8.5                5\n",
      "1       2   Jane             left       13.5                7\n",
      "2       3  Suzie             left        9.0                9\n",
      "3       4  Billy             left       10.0                5\n",
      "4       5    Ada             left        9.0                7\n"
     ]
    }
   ],
   "source": [
    "# 7. Create a new data frame that has all of the columns, but only 5 rows.\n",
    "students_five_rows = students.head()\n",
    "print(students_five_rows)"
   ]
  },
  {
   "cell_type": "code",
   "execution_count": 173,
   "metadata": {},
   "outputs": [
    {
     "name": "stdout",
     "output_type": "stream",
     "text": [
      "     Name  Favorite_Number\n",
      "0   Sally                5\n",
      "1    Jane                7\n",
      "2   Suzie                9\n",
      "3   Billy                5\n",
      "4     Ada                7\n",
      "5    John                4\n",
      "6  Thomas                2\n"
     ]
    }
   ],
   "source": [
    "# 8. Create a new data frame that has only columns for favorite number and name, and only includes 7 rows.\n",
    "students_num_name = students[:7][[\"Name\", \"Favorite_Number\"]]\n",
    "print(students_num_name)"
   ]
  },
  {
   "cell_type": "code",
   "execution_count": 174,
   "metadata": {},
   "outputs": [
    {
     "name": "stdout",
     "output_type": "stream",
     "text": [
      "    Number     Name Seating_Location  Shoe_Size  Favorite_Number  ss_to_fn\n",
      "0        1    Sally             left        8.5                5  1.700000\n",
      "1        2     Jane             left       13.5                7  1.928571\n",
      "2        3    Suzie             left        9.0                9  1.000000\n",
      "3        4    Billy             left       10.0                5  2.000000\n",
      "4        5      Ada             left        9.0                7  1.285714\n",
      "5        6     John            right       10.5                4  2.625000\n",
      "6        7   Thomas             left       10.0                2  5.000000\n",
      "7        8    Marie             left       11.0                9  1.222222\n",
      "8        9   Albert            right        8.5                7  1.214286\n",
      "9       10  Richard            right       13.0                8  1.625000\n",
      "10      11    Isaac            right        9.0                1  9.000000\n",
      "11      12     Alan            right        8.0                5  1.600000\n"
     ]
    }
   ],
   "source": [
    "# 9. Create a new column for the ratio of shoe size to the favorite number. Name this ss_to_fn\n",
    "students_shoe_to_num = students.assign(ss_to_fn=students.Shoe_Size / students.Favorite_Number)\n",
    "print(students_shoe_to_num)"
   ]
  },
  {
   "cell_type": "code",
   "execution_count": 175,
   "metadata": {},
   "outputs": [
    {
     "name": "stdout",
     "output_type": "stream",
     "text": [
      "    Number     Name Seating_Location  Shoe_Size  Favorite_Number  shoe_z_score\n",
      "0        1    Sally             left        8.5                5     -0.853195\n",
      "1        2     Jane             left       13.5                7      1.990788\n",
      "2        3    Suzie             left        9.0                9     -0.568796\n",
      "3        4    Billy             left       10.0                5      0.000000\n",
      "4        5      Ada             left        9.0                7     -0.568796\n",
      "5        6     John            right       10.5                4      0.284398\n",
      "6        7   Thomas             left       10.0                2      0.000000\n",
      "7        8    Marie             left       11.0                9      0.568796\n",
      "8        9   Albert            right        8.5                7     -0.853195\n",
      "9       10  Richard            right       13.0                8      1.706389\n",
      "10      11    Isaac            right        9.0                1     -0.568796\n",
      "11      12     Alan            right        8.0                5     -1.137593\n"
     ]
    }
   ],
   "source": [
    "# 10. Create a new column that contains the z-score for the shoe size.\n",
    "shoe_z_scores = (students.Shoe_Size - students.Shoe_Size.mean()) / students.Shoe_Size.std()\n",
    "students_shoe_z_score = students.assign(shoe_z_score=shoe_z_scores)\n",
    "print(students_shoe_z_score)"
   ]
  },
  {
   "cell_type": "code",
   "execution_count": 176,
   "metadata": {},
   "outputs": [
    {
     "name": "stdout",
     "output_type": "stream",
     "text": [
      "    Number     Name Seating_Location  Shoe_Size  Favorite_Number\n",
      "0        1    Sally                L        8.5                5\n",
      "1        2     Jane                L       13.5                7\n",
      "2        3    Suzie                L        9.0                9\n",
      "3        4    Billy                L       10.0                5\n",
      "4        5      Ada                L        9.0                7\n",
      "5        6     John                R       10.5                4\n",
      "6        7   Thomas                L       10.0                2\n",
      "7        8    Marie                L       11.0                9\n",
      "8        9   Albert                R        8.5                7\n",
      "9       10  Richard                R       13.0                8\n",
      "10      11    Isaac                R        9.0                1\n",
      "11      12     Alan                R        8.0                5\n"
     ]
    }
   ],
   "source": [
    "# 11. Transform the side_of_the_classroom columns such that the values are either R or L.\n",
    "students_transformed = students.copy()\n",
    "students_transformed[\"Seating_Location\"] = students_transformed.Seating_Location.apply(lambda loc: loc[0].capitalize())\n",
    "print(students_transformed)"
   ]
  },
  {
   "cell_type": "code",
   "execution_count": 177,
   "metadata": {},
   "outputs": [
    {
     "name": "stdout",
     "output_type": "stream",
     "text": [
      "1       Jane\n",
      "7      Marie\n",
      "9    Richard\n",
      "Name: Name, dtype: object\n"
     ]
    }
   ],
   "source": [
    "# 12. Find the names of all the students that have a shoe size greater than the 3rd quartile of shoe\n",
    "# sizes (You can use the .quantile method on a series for this)\n",
    "third_quartile = students.Shoe_Size.quantile(0.75)\n",
    "more_than_third = students[students.Shoe_Size > third_quartile]\n",
    "print(more_than_third[\"Name\"])"
   ]
  },
  {
   "cell_type": "code",
   "execution_count": 178,
   "metadata": {},
   "outputs": [
    {
     "name": "stdout",
     "output_type": "stream",
     "text": [
      "0      Sally\n",
      "8     Albert\n",
      "11      Alan\n",
      "Name: Name, dtype: object\n"
     ]
    }
   ],
   "source": [
    "# 13. Find the names of all the students that have a shoe size less than the 1st quartile of shoe sizes\n",
    "first_quartile = students.Shoe_Size.quantile(0.25)\n",
    "less_than_first = students[students.Shoe_Size < first_quartile]\n",
    "print(less_than_first[\"Name\"])"
   ]
  },
  {
   "cell_type": "markdown",
   "metadata": {},
   "source": [
    "## Aggregation and Plotting"
   ]
  },
  {
   "cell_type": "code",
   "execution_count": 179,
   "metadata": {},
   "outputs": [
    {
     "name": "stdout",
     "output_type": "stream",
     "text": [
      "        Shoe_Size  Favorite_Number\n",
      "mean         10.0             5.75\n",
      "median        9.5             6.00\n",
      "min           8.0             1.00\n",
      "max          13.5             9.00\n"
     ]
    }
   ],
   "source": [
    "# 1. Calculate the mean, median, min, and max for the shoe sizes and favorite numbers\n",
    "print(students[['Shoe_Size', 'Favorite_Number']].agg([\"mean\", \"median\", \"min\", \"max\"]))"
   ]
  },
  {
   "cell_type": "code",
   "execution_count": 180,
   "metadata": {},
   "outputs": [
    {
     "name": "stdout",
     "output_type": "stream",
     "text": [
      "    Number     Name Seating_Location  Shoe_Size  Favorite_Number\n",
      "11      12     Alan            right        8.0                5\n",
      "0        1    Sally             left        8.5                5\n",
      "8        9   Albert            right        8.5                7\n",
      "2        3    Suzie             left        9.0                9\n",
      "4        5      Ada             left        9.0                7\n",
      "10      11    Isaac            right        9.0                1\n",
      "3        4    Billy             left       10.0                5\n",
      "6        7   Thomas             left       10.0                2\n",
      "5        6     John            right       10.5                4\n",
      "7        8    Marie             left       11.0                9\n",
      "9       10  Richard            right       13.0                8\n",
      "1        2     Jane             left       13.5                7\n"
     ]
    }
   ],
   "source": [
    "# 2. Sort the data frame by the students shoe size\n",
    "print(students.sort_values(by=\"Shoe_Size\"))"
   ]
  },
  {
   "cell_type": "code",
   "execution_count": 181,
   "metadata": {},
   "outputs": [
    {
     "name": "stdout",
     "output_type": "stream",
     "text": [
      "    Number     Name Seating_Location  Shoe_Size  Favorite_Number\n",
      "0        1    Sally             left        8.5                5\n",
      "1        2     Jane             left       13.5                7\n",
      "2        3    Suzie             left        9.0                9\n",
      "3        4    Billy             left       10.0                5\n",
      "4        5      Ada             left        9.0                7\n",
      "6        7   Thomas             left       10.0                2\n",
      "7        8    Marie             left       11.0                9\n",
      "5        6     John            right       10.5                4\n",
      "8        9   Albert            right        8.5                7\n",
      "9       10  Richard            right       13.0                8\n",
      "10      11    Isaac            right        9.0                1\n",
      "11      12     Alan            right        8.0                5\n"
     ]
    }
   ],
   "source": [
    "# 3. Sort the data frame by the side of the classroom, then by their student number\n",
    "print(students.sort_values(by=[\"Seating_Location\", \"Number\"]))"
   ]
  },
  {
   "cell_type": "code",
   "execution_count": 182,
   "metadata": {},
   "outputs": [
    {
     "name": "stdout",
     "output_type": "stream",
     "text": [
      "Seating_Location\n",
      "left     7\n",
      "right    5\n",
      "Name: Seating_Location, dtype: int64\n"
     ]
    }
   ],
   "source": [
    "# 4. Find the number of students on each side of the classroom\n",
    "seating_location_count = students.groupby(\"Seating_Location\")[\"Seating_Location\"].count()\n",
    "print(seating_location_count)"
   ]
  },
  {
   "cell_type": "code",
   "execution_count": 183,
   "metadata": {},
   "outputs": [
    {
     "name": "stdout",
     "output_type": "stream",
     "text": [
      "Seating_Location\n",
      "left     10.142857\n",
      "right     9.800000\n",
      "Name: Shoe_Size, dtype: float64\n"
     ]
    }
   ],
   "source": [
    "# 5. Find the average shoe size for each side of the classroom\n",
    "print(students.groupby(\"Seating_Location\")[\"Shoe_Size\"].mean())"
   ]
  },
  {
   "cell_type": "code",
   "execution_count": 184,
   "metadata": {},
   "outputs": [
    {
     "name": "stdout",
     "output_type": "stream",
     "text": [
      "Seating_Location\n",
      "left     9\n",
      "right    8\n",
      "Name: Favorite_Number, dtype: int64\n"
     ]
    }
   ],
   "source": [
    "# 6. Find the maximum favorite number for each side of the classroom\n",
    "print(students.groupby(\"Seating_Location\")[\"Favorite_Number\"].max())"
   ]
  },
  {
   "cell_type": "code",
   "execution_count": 185,
   "metadata": {},
   "outputs": [
    {
     "data": {
      "image/png": "[encoded data removed]",
      "text/plain": [
       "<Figure size 432x288 with 1 Axes>"
      ]
     },
     "metadata": {},
     "output_type": "display_data"
    }
   ],
   "source": [
    "# 7. Create a pie chart that visualizes the number of students on each side of the classroom.\n",
    "seating_location_count.plot.pie()\n",
    "plt.title(\"Seating Location of Students\")\n",
    "plt.ylabel(\"\")\n",
    "plt.show()"
   ]
  },
  {
   "cell_type": "code",
   "execution_count": 186,
   "metadata": {},
   "outputs": [
    {
     "data": {
      "image/png": "[encoded data removed]",
      "text/plain": [
       "<Figure size 432x288 with 1 Axes>"
      ]
     },
     "metadata": {
      "needs_background": "light"
     },
     "output_type": "display_data"
    }
   ],
   "source": [
    "# 8. Create a histogram of the shoe sizes in the classroom\n",
    "students[\"Shoe_Size\"].plot.hist(grid=False)\n",
    "plt.title(\"Shoe Sizes of Students\")\n",
    "plt.show()"
   ]
  },
  {
   "cell_type": "code",
   "execution_count": 187,
   "metadata": {},
   "outputs": [
    {
     "data": {
      "image/png": "[encoded data removed]",
      "text/plain": [
       "<Figure size 432x288 with 1 Axes>"
      ]
     },
     "metadata": {
      "needs_background": "light"
     },
     "output_type": "display_data"
    }
   ],
   "source": [
    "# 9. Create a histogram of the favorite numbers in the classroom\n",
    "students[\"Favorite_Number\"].plot.hist()\n",
    "plt.title(\"Favorite Numbers of Students\")\n",
    "plt.show()"
   ]
  },
  {
   "cell_type": "code",
   "execution_count": 188,
   "metadata": {},
   "outputs": [
    {
     "data": {
      "image/png": "[encoded data removed]",
      "text/plain": [
       "<Figure size 432x288 with 1 Axes>"
      ]
     },
     "metadata": {
      "needs_background": "light"
     },
     "output_type": "display_data"
    }
   ],
   "source": [
    "# 10. Create a scatter plot of shoe size vs favorite number\n",
    "students.plot.scatter(x=\"Shoe_Size\", y=\"Favorite_Number\")\n",
    "plt.title(\"Shoe Size v. Favorite Number\")\n",
    "plt.show()"
   ]
  },
  {
   "cell_type": "code",
   "execution_count": 209,
   "metadata": {},
   "outputs": [
    {
     "name": "stdout",
     "output_type": "stream",
     "text": [
      "  first_name last_name\n",
      "0    Matthew    Zapata\n",
      "1    Michael     Moran\n"
     ]
    }
   ],
   "source": [
    "from sqlalchemy import create_engine\n",
    "\n",
    "from env import user, password, host\n",
    "\n",
    "db_ada_students = \"ada_students\"\n",
    "\n",
    "url_ada_students = f'mysql+pymysql://{user}:{password}@{host}/{db_ada_students}'\n",
    "\n",
    "dbc_ada_students = create_engine(url_ada_students)\n",
    "\n",
    "ada_students_df = pd.read_sql(\"SELECT students.first_name, students.last_name \"\n",
    "                 \"FROM students \"\n",
    "                 \"JOIN student_groups USING (student_id) \"\n",
    "                 \"WHERE student_groups.module_id = 5 AND student_groups.group_id = ( \"\n",
    "                     \"SELECT student_groups.group_id \"\n",
    "                     \"FROM students \"\n",
    "                     \"JOIN student_groups USING (student_id) \"\n",
    "                     \"WHERE student_groups.module_id = 5 AND students.first_name = 'Michael' AND students.last_name = 'Moran');\", dbc_ada_students)\n",
    "\n",
    "print(ada_students_df)"
   ]
  },
  {
   "cell_type": "markdown",
   "metadata": {},
   "source": [
    "## Reading and Writing Data"
   ]
  },
  {
   "cell_type": "code",
   "execution_count": 204,
   "metadata": {},
   "outputs": [],
   "source": [
    "# 1. Save the students data to a csv file.\n",
    "students.to_csv(\"students_data.csv\")"
   ]
  },
  {
   "cell_type": "code",
   "execution_count": 210,
   "metadata": {},
   "outputs": [
    {
     "name": "stdout",
     "output_type": "stream",
     "text": [
      "    Unnamed: 0  Number     Name Seating_Location  Shoe_Size  Favorite_Number\n",
      "0            0       1    Sally             left        8.5                5\n",
      "1            1       2     Jane             left       13.5                7\n",
      "2            2       3    Suzie             left        9.0                9\n",
      "3            3       4    Billy             left       10.0                5\n",
      "4            4       5      Ada             left        9.0                7\n",
      "5            5       6     John            right       10.5                4\n",
      "6            6       7   Thomas             left       10.0                2\n",
      "7            7       8    Marie             left       11.0                9\n",
      "8            8       9   Albert            right        8.5                7\n",
      "9            9      10  Richard            right       13.0                8\n",
      "10          10      11    Isaac            right        9.0                1\n",
      "11          11      12     Alan            right        8.0                5\n"
     ]
    }
   ],
   "source": [
    "# 2. Read the data from the csv file back into pandas. What do you notice? The indexes from the\n",
    "# original data frame were saved to the CSV file without a header. This column was read back in and\n",
    "# is titled \"Unnamed: 0\". There is also a new index row created by Pandas.\n",
    "students_from_file = pd.read_csv(\"students_data.csv\")\n",
    "print(students_from_file)"
   ]
  },
  {
   "cell_type": "code",
   "execution_count": 207,
   "metadata": {},
   "outputs": [
    {
     "data": {
      "text/html": [
       "<div>\n",
       "<style scoped>\n",
       "    .dataframe tbody tr th:only-of-type {\n",
       "        vertical-align: middle;\n",
       "    }\n",
       "\n",
       "    .dataframe tbody tr th {\n",
       "        vertical-align: top;\n",
       "    }\n",
       "\n",
       "    .dataframe thead th {\n",
       "        text-align: right;\n",
       "    }\n",
       "</style>\n",
       "<table border=\"1\" class=\"dataframe\">\n",
       "  <thead>\n",
       "    <tr style=\"text-align: right;\">\n",
       "      <th></th>\n",
       "      <th>_id</th>\n",
       "      <th>about</th>\n",
       "      <th>address</th>\n",
       "      <th>age</th>\n",
       "      <th>balance</th>\n",
       "      <th>company</th>\n",
       "      <th>email</th>\n",
       "      <th>eyeColor</th>\n",
       "      <th>favoriteFruit</th>\n",
       "      <th>friends</th>\n",
       "      <th>...</th>\n",
       "      <th>guid</th>\n",
       "      <th>index</th>\n",
       "      <th>isActive</th>\n",
       "      <th>latitude</th>\n",
       "      <th>longitude</th>\n",
       "      <th>name</th>\n",
       "      <th>phone</th>\n",
       "      <th>picture</th>\n",
       "      <th>registered</th>\n",
       "      <th>tags</th>\n",
       "    </tr>\n",
       "  </thead>\n",
       "  <tbody>\n",
       "    <tr>\n",
       "      <th>0</th>\n",
       "      <td>54e23c3e46ab53a440b580e8</td>\n",
       "      <td>Sit cillum deserunt irure laboris tempor fugia...</td>\n",
       "      <td>121 Emmons Avenue, Klondike, Kentucky, 5975</td>\n",
       "      <td>39</td>\n",
       "      <td>$2,097.02</td>\n",
       "      <td>ANDRYX</td>\n",
       "      <td>hebertestes@andryx.com</td>\n",
       "      <td>blue</td>\n",
       "      <td>strawberry</td>\n",
       "      <td>[{'id': 0, 'name': 'Tanisha Leonard'}, {'id': ...</td>\n",
       "      <td>...</td>\n",
       "      <td>9962b468-ef3e-4993-b677-617469bc3008</td>\n",
       "      <td>0</td>\n",
       "      <td>False</td>\n",
       "      <td>-80.157843</td>\n",
       "      <td>161.930160</td>\n",
       "      <td>Hebert Estes</td>\n",
       "      <td>+1 (866) 456-2268</td>\n",
       "      <td>http://placehold.it/32x32</td>\n",
       "      <td>2014-11-10T01:44:03 +06:00</td>\n",
       "      <td>[sit, occaecat, non, ea, sit, laboris, exercit...</td>\n",
       "    </tr>\n",
       "    <tr>\n",
       "      <th>1</th>\n",
       "      <td>54e23c3ef5cc0d250968c212</td>\n",
       "      <td>Esse quis cillum sunt occaecat ad et eu incidi...</td>\n",
       "      <td>724 Brevoort Place, Lodoga, Indiana, 3880</td>\n",
       "      <td>30</td>\n",
       "      <td>$3,654.02</td>\n",
       "      <td>PHARMACON</td>\n",
       "      <td>allisonwynn@pharmacon.com</td>\n",
       "      <td>green</td>\n",
       "      <td>apple</td>\n",
       "      <td>[{'id': 0, 'name': 'Curry Cox'}, {'id': 1, 'na...</td>\n",
       "      <td>...</td>\n",
       "      <td>905f849d-49bf-4a57-b4f3-5d6e4bf1b04c</td>\n",
       "      <td>1</td>\n",
       "      <td>False</td>\n",
       "      <td>55.737207</td>\n",
       "      <td>-167.177561</td>\n",
       "      <td>Allison Wynn</td>\n",
       "      <td>+1 (926) 525-3131</td>\n",
       "      <td>http://placehold.it/32x32</td>\n",
       "      <td>2014-06-10T13:41:26 +05:00</td>\n",
       "      <td>[enim, officia, laboris, irure, veniam, occaec...</td>\n",
       "    </tr>\n",
       "    <tr>\n",
       "      <th>2</th>\n",
       "      <td>54e23c3e09cc6875638cd36b</td>\n",
       "      <td>Deserunt adipisicing proident exercitation cil...</td>\n",
       "      <td>941 Cox Place, Bluffview, Georgia, 5882</td>\n",
       "      <td>31</td>\n",
       "      <td>$1,536.02</td>\n",
       "      <td>QUONK</td>\n",
       "      <td>jacobsfloyd@quonk.com</td>\n",
       "      <td>brown</td>\n",
       "      <td>banana</td>\n",
       "      <td>[{'id': 0, 'name': 'Robles Chan'}, {'id': 1, '...</td>\n",
       "      <td>...</td>\n",
       "      <td>1b042d48-9cfa-4db5-8b60-4104165591c3</td>\n",
       "      <td>2</td>\n",
       "      <td>True</td>\n",
       "      <td>30.215667</td>\n",
       "      <td>68.831905</td>\n",
       "      <td>Jacobs Floyd</td>\n",
       "      <td>+1 (853) 537-3315</td>\n",
       "      <td>http://placehold.it/32x32</td>\n",
       "      <td>2014-07-30T03:17:32 +05:00</td>\n",
       "      <td>[est, aute, laborum, sint, anim, sit, consecte...</td>\n",
       "    </tr>\n",
       "    <tr>\n",
       "      <th>3</th>\n",
       "      <td>54e23c3e54e4094147a3b1da</td>\n",
       "      <td>Aliqua sunt exercitation quis cupidatat fugiat...</td>\n",
       "      <td>518 Randolph Street, Whitestone, Arizona, 8189</td>\n",
       "      <td>20</td>\n",
       "      <td>$3,919.64</td>\n",
       "      <td>INRT</td>\n",
       "      <td>fayhammond@inrt.com</td>\n",
       "      <td>green</td>\n",
       "      <td>banana</td>\n",
       "      <td>[{'id': 0, 'name': 'Dudley Booker'}, {'id': 1,...</td>\n",
       "      <td>...</td>\n",
       "      <td>69eb3454-8acc-46f1-a636-c6df00dfb542</td>\n",
       "      <td>3</td>\n",
       "      <td>False</td>\n",
       "      <td>33.825844</td>\n",
       "      <td>-65.969538</td>\n",
       "      <td>Fay Hammond</td>\n",
       "      <td>+1 (922) 429-2592</td>\n",
       "      <td>http://placehold.it/32x32</td>\n",
       "      <td>2015-01-30T08:05:38 +06:00</td>\n",
       "      <td>[aliqua, esse, sint, pariatur, commodo, do, anim]</td>\n",
       "    </tr>\n",
       "    <tr>\n",
       "      <th>4</th>\n",
       "      <td>54e23c3e177caf5567ba87ac</td>\n",
       "      <td>Irure excepteur consequat esse qui tempor dese...</td>\n",
       "      <td>604 Just Court, Eastvale, Federated States Of ...</td>\n",
       "      <td>39</td>\n",
       "      <td>$3,681.39</td>\n",
       "      <td>WAZZU</td>\n",
       "      <td>chasitymarsh@wazzu.com</td>\n",
       "      <td>green</td>\n",
       "      <td>apple</td>\n",
       "      <td>[{'id': 0, 'name': 'Kristina Glover'}, {'id': ...</td>\n",
       "      <td>...</td>\n",
       "      <td>97962c85-7700-4ffa-a01e-2fcbc147fd81</td>\n",
       "      <td>4</td>\n",
       "      <td>False</td>\n",
       "      <td>-31.660978</td>\n",
       "      <td>37.559095</td>\n",
       "      <td>Chasity Marsh</td>\n",
       "      <td>+1 (976) 425-2362</td>\n",
       "      <td>http://placehold.it/32x32</td>\n",
       "      <td>2014-07-31T06:03:19 +05:00</td>\n",
       "      <td>[aliquip, duis, irure, amet, aliquip, dolore, ...</td>\n",
       "    </tr>\n",
       "    <tr>\n",
       "      <th>5</th>\n",
       "      <td>54e23c3eaffbb506aa15ec1c</td>\n",
       "      <td>Qui ad commodo elit voluptate cupidatat exerci...</td>\n",
       "      <td>101 Haring Street, Nicut, Louisiana, 1473</td>\n",
       "      <td>30</td>\n",
       "      <td>$1,694.42</td>\n",
       "      <td>EARTHWAX</td>\n",
       "      <td>camachocortez@earthwax.com</td>\n",
       "      <td>brown</td>\n",
       "      <td>apple</td>\n",
       "      <td>[{'id': 0, 'name': 'Sexton Tillman'}, {'id': 1...</td>\n",
       "      <td>...</td>\n",
       "      <td>fc3e04d1-44c2-449e-891a-d4f8053d14a4</td>\n",
       "      <td>5</td>\n",
       "      <td>True</td>\n",
       "      <td>74.434627</td>\n",
       "      <td>69.527088</td>\n",
       "      <td>Camacho Cortez</td>\n",
       "      <td>+1 (869) 528-2019</td>\n",
       "      <td>http://placehold.it/32x32</td>\n",
       "      <td>2014-03-17T12:04:00 +05:00</td>\n",
       "      <td>[et, sit, in, id, ullamco, elit, laborum]</td>\n",
       "    </tr>\n",
       "    <tr>\n",
       "      <th>6</th>\n",
       "      <td>54e23c3e0fd8074c2ca52667</td>\n",
       "      <td>Minim consequat anim ad et tempor et pariatur ...</td>\n",
       "      <td>569 Oakland Place, Beyerville, Puerto Rico, 2395</td>\n",
       "      <td>35</td>\n",
       "      <td>$1,214.10</td>\n",
       "      <td>TERSANKI</td>\n",
       "      <td>averyflynn@tersanki.com</td>\n",
       "      <td>green</td>\n",
       "      <td>banana</td>\n",
       "      <td>[{'id': 0, 'name': 'Ball Henson'}, {'id': 1, '...</td>\n",
       "      <td>...</td>\n",
       "      <td>af8d9a03-fde9-4039-b20c-c4708d4cfc3c</td>\n",
       "      <td>6</td>\n",
       "      <td>False</td>\n",
       "      <td>-89.879409</td>\n",
       "      <td>143.441709</td>\n",
       "      <td>Avery Flynn</td>\n",
       "      <td>+1 (966) 404-2471</td>\n",
       "      <td>http://placehold.it/32x32</td>\n",
       "      <td>2014-04-13T10:25:03 +05:00</td>\n",
       "      <td>[quis, esse, Lorem, minim, nostrud, voluptate,...</td>\n",
       "    </tr>\n",
       "    <tr>\n",
       "      <th>7</th>\n",
       "      <td>54e23c3eb112d96e4204914d</td>\n",
       "      <td>Minim proident minim consectetur nostrud dolor...</td>\n",
       "      <td>808 Duryea Court, Downsville, Northern Mariana...</td>\n",
       "      <td>23</td>\n",
       "      <td>$2,930.31</td>\n",
       "      <td>ORBIXTAR</td>\n",
       "      <td>michaelcash@orbixtar.com</td>\n",
       "      <td>blue</td>\n",
       "      <td>strawberry</td>\n",
       "      <td>[{'id': 0, 'name': 'Rodgers Nolan'}, {'id': 1,...</td>\n",
       "      <td>...</td>\n",
       "      <td>95f1c020-f9eb-4a29-b236-e766759d89d0</td>\n",
       "      <td>7</td>\n",
       "      <td>False</td>\n",
       "      <td>-86.621367</td>\n",
       "      <td>-4.061970</td>\n",
       "      <td>Michael Cash</td>\n",
       "      <td>+1 (996) 439-3660</td>\n",
       "      <td>http://placehold.it/32x32</td>\n",
       "      <td>2014-05-24T17:56:54 +05:00</td>\n",
       "      <td>[eu, sit, dolore, culpa, Lorem, in, esse]</td>\n",
       "    </tr>\n",
       "    <tr>\n",
       "      <th>8</th>\n",
       "      <td>54e23c3ef30f14d0e5afddf3</td>\n",
       "      <td>Ullamco ea esse ullamco commodo quis amet ut a...</td>\n",
       "      <td>684 Stratford Road, Rosine, District Of Columb...</td>\n",
       "      <td>25</td>\n",
       "      <td>$1,944.15</td>\n",
       "      <td>KIDSTOCK</td>\n",
       "      <td>madeleinebray@kidstock.com</td>\n",
       "      <td>green</td>\n",
       "      <td>strawberry</td>\n",
       "      <td>[{'id': 0, 'name': 'Herrera Doyle'}, {'id': 1,...</td>\n",
       "      <td>...</td>\n",
       "      <td>bde2d56f-2488-40d0-a7d2-21019ee8a18b</td>\n",
       "      <td>8</td>\n",
       "      <td>False</td>\n",
       "      <td>45.118798</td>\n",
       "      <td>-7.698707</td>\n",
       "      <td>Madeleine Bray</td>\n",
       "      <td>+1 (820) 541-2969</td>\n",
       "      <td>http://placehold.it/32x32</td>\n",
       "      <td>2014-08-11T08:54:06 +05:00</td>\n",
       "      <td>[id, magna, excepteur, excepteur, excepteur, d...</td>\n",
       "    </tr>\n",
       "    <tr>\n",
       "      <th>9</th>\n",
       "      <td>54e23c3ebd80e9c26b057fa3</td>\n",
       "      <td>Sint cillum laborum labore duis fugiat volupta...</td>\n",
       "      <td>964 Clara Street, Snyderville, Oklahoma, 3627</td>\n",
       "      <td>37</td>\n",
       "      <td>$2,839.22</td>\n",
       "      <td>INTRAWEAR</td>\n",
       "      <td>corinefrench@intrawear.com</td>\n",
       "      <td>blue</td>\n",
       "      <td>banana</td>\n",
       "      <td>[{'id': 0, 'name': 'Greta Hill'}, {'id': 1, 'n...</td>\n",
       "      <td>...</td>\n",
       "      <td>75991ca5-05ed-499e-bbb5-f057f86d05d7</td>\n",
       "      <td>9</td>\n",
       "      <td>True</td>\n",
       "      <td>-37.637422</td>\n",
       "      <td>154.195523</td>\n",
       "      <td>Corine French</td>\n",
       "      <td>+1 (987) 573-3164</td>\n",
       "      <td>http://placehold.it/32x32</td>\n",
       "      <td>2014-06-25T20:17:13 +05:00</td>\n",
       "      <td>[laboris, in, dolore, mollit, velit, laboris, ...</td>\n",
       "    </tr>\n",
       "    <tr>\n",
       "      <th>10</th>\n",
       "      <td>54e23c3e6d89c09f5507e7dd</td>\n",
       "      <td>Non id adipisicing deserunt non magna ex adipi...</td>\n",
       "      <td>558 Charles Place, Tedrow, California, 9832</td>\n",
       "      <td>29</td>\n",
       "      <td>$2,467.31</td>\n",
       "      <td>SPLINX</td>\n",
       "      <td>trudycummings@splinx.com</td>\n",
       "      <td>blue</td>\n",
       "      <td>strawberry</td>\n",
       "      <td>[{'id': 0, 'name': 'Amber Gates'}, {'id': 1, '...</td>\n",
       "      <td>...</td>\n",
       "      <td>87cffc18-3acf-40c5-8708-1bb93f1b68de</td>\n",
       "      <td>10</td>\n",
       "      <td>True</td>\n",
       "      <td>-36.185131</td>\n",
       "      <td>-37.774906</td>\n",
       "      <td>Trudy Cummings</td>\n",
       "      <td>+1 (925) 403-2797</td>\n",
       "      <td>http://placehold.it/32x32</td>\n",
       "      <td>2014-03-13T17:54:31 +05:00</td>\n",
       "      <td>[aute, occaecat, ea, pariatur, consectetur, ma...</td>\n",
       "    </tr>\n",
       "    <tr>\n",
       "      <th>11</th>\n",
       "      <td>54e23c3e4192cf53edd67c99</td>\n",
       "      <td>Aliqua sit enim cillum aliquip ad proident exc...</td>\n",
       "      <td>830 Willmohr Street, Crenshaw, Missouri, 6032</td>\n",
       "      <td>21</td>\n",
       "      <td>$3,304.99</td>\n",
       "      <td>ACCUPRINT</td>\n",
       "      <td>peggymayer@accuprint.com</td>\n",
       "      <td>brown</td>\n",
       "      <td>strawberry</td>\n",
       "      <td>[{'id': 0, 'name': 'Hopkins Mccall'}, {'id': 1...</td>\n",
       "      <td>...</td>\n",
       "      <td>5a5496f1-a027-4c21-85da-c399234cd9a5</td>\n",
       "      <td>11</td>\n",
       "      <td>True</td>\n",
       "      <td>48.323912</td>\n",
       "      <td>22.184821</td>\n",
       "      <td>Peggy Mayer</td>\n",
       "      <td>+1 (854) 428-2585</td>\n",
       "      <td>http://placehold.it/32x32</td>\n",
       "      <td>2014-09-14T07:06:49 +05:00</td>\n",
       "      <td>[commodo, esse, ad, ullamco, ea, sint, ipsum]</td>\n",
       "    </tr>\n",
       "    <tr>\n",
       "      <th>12</th>\n",
       "      <td>54e23c3eedcc65f0ec3a5496</td>\n",
       "      <td>Voluptate exercitation ut anim ex adipisicing ...</td>\n",
       "      <td>915 Channel Avenue, Clinton, North Dakota, 6244</td>\n",
       "      <td>40</td>\n",
       "      <td>$3,844.42</td>\n",
       "      <td>ZEAM</td>\n",
       "      <td>chanhurley@zeam.com</td>\n",
       "      <td>brown</td>\n",
       "      <td>apple</td>\n",
       "      <td>[{'id': 0, 'name': 'Reese Grant'}, {'id': 1, '...</td>\n",
       "      <td>...</td>\n",
       "      <td>759a21c4-5f9c-4189-9c50-c9d8a9f31037</td>\n",
       "      <td>12</td>\n",
       "      <td>False</td>\n",
       "      <td>85.901051</td>\n",
       "      <td>-74.986179</td>\n",
       "      <td>Chan Hurley</td>\n",
       "      <td>+1 (917) 475-3705</td>\n",
       "      <td>http://placehold.it/32x32</td>\n",
       "      <td>2014-03-01T14:51:23 +06:00</td>\n",
       "      <td>[minim, veniam, sit, aute, irure, non, eiusmod]</td>\n",
       "    </tr>\n",
       "    <tr>\n",
       "      <th>13</th>\n",
       "      <td>54e23c3eb813e66c6d33aa82</td>\n",
       "      <td>Enim elit amet officia consectetur do Lorem re...</td>\n",
       "      <td>184 Kingsway Place, Grantville, Michigan, 2421</td>\n",
       "      <td>40</td>\n",
       "      <td>$3,594.99</td>\n",
       "      <td>SUREPLEX</td>\n",
       "      <td>diazpena@sureplex.com</td>\n",
       "      <td>blue</td>\n",
       "      <td>strawberry</td>\n",
       "      <td>[{'id': 0, 'name': 'Mcmillan Knox'}, {'id': 1,...</td>\n",
       "      <td>...</td>\n",
       "      <td>6fd14a8e-3158-48eb-a7e1-93fe57b74746</td>\n",
       "      <td>13</td>\n",
       "      <td>True</td>\n",
       "      <td>6.606991</td>\n",
       "      <td>81.593748</td>\n",
       "      <td>Diaz Pena</td>\n",
       "      <td>+1 (986) 511-3050</td>\n",
       "      <td>http://placehold.it/32x32</td>\n",
       "      <td>2014-04-19T20:43:12 +05:00</td>\n",
       "      <td>[excepteur, elit, ullamco, excepteur, ad, quis...</td>\n",
       "    </tr>\n",
       "    <tr>\n",
       "      <th>14</th>\n",
       "      <td>54e23c3e502a2f526b689c3e</td>\n",
       "      <td>Consectetur mollit cupidatat ex consectetur ei...</td>\n",
       "      <td>278 Village Road, Sunnyside, Massachusetts, 7496</td>\n",
       "      <td>40</td>\n",
       "      <td>$2,940.24</td>\n",
       "      <td>NETPLODE</td>\n",
       "      <td>heathcastaneda@netplode.com</td>\n",
       "      <td>brown</td>\n",
       "      <td>strawberry</td>\n",
       "      <td>[{'id': 0, 'name': 'Dora Mack'}, {'id': 1, 'na...</td>\n",
       "      <td>...</td>\n",
       "      <td>459cc82d-7878-42cb-b9c6-073506380036</td>\n",
       "      <td>14</td>\n",
       "      <td>True</td>\n",
       "      <td>69.928876</td>\n",
       "      <td>33.649878</td>\n",
       "      <td>Heath Castaneda</td>\n",
       "      <td>+1 (944) 478-3741</td>\n",
       "      <td>http://placehold.it/32x32</td>\n",
       "      <td>2014-07-30T21:38:43 +05:00</td>\n",
       "      <td>[elit, commodo, ut, ullamco, ullamco, velit, u...</td>\n",
       "    </tr>\n",
       "    <tr>\n",
       "      <th>15</th>\n",
       "      <td>54e23c3e69d22e49c7fe62de</td>\n",
       "      <td>Non in excepteur nostrud consectetur. Qui non ...</td>\n",
       "      <td>557 Ingraham Street, Brambleton, South Dakota,...</td>\n",
       "      <td>38</td>\n",
       "      <td>$3,062.41</td>\n",
       "      <td>QUALITERN</td>\n",
       "      <td>greerblankenship@qualitern.com</td>\n",
       "      <td>brown</td>\n",
       "      <td>banana</td>\n",
       "      <td>[{'id': 0, 'name': 'Woods Norman'}, {'id': 1, ...</td>\n",
       "      <td>...</td>\n",
       "      <td>33d2bbe5-d6f7-4844-88fc-b9f6af63b373</td>\n",
       "      <td>15</td>\n",
       "      <td>False</td>\n",
       "      <td>-71.093388</td>\n",
       "      <td>65.740255</td>\n",
       "      <td>Greer Blankenship</td>\n",
       "      <td>+1 (957) 482-3874</td>\n",
       "      <td>http://placehold.it/32x32</td>\n",
       "      <td>2014-03-30T21:39:41 +05:00</td>\n",
       "      <td>[enim, eiusmod, Lorem, reprehenderit, nisi, an...</td>\n",
       "    </tr>\n",
       "    <tr>\n",
       "      <th>16</th>\n",
       "      <td>54e23c3e42676228c442a669</td>\n",
       "      <td>Est esse irure Lorem ullamco veniam fugiat lab...</td>\n",
       "      <td>490 Durland Place, Craig, Tennessee, 5034</td>\n",
       "      <td>32</td>\n",
       "      <td>$3,067.82</td>\n",
       "      <td>INQUALA</td>\n",
       "      <td>coffeyhayes@inquala.com</td>\n",
       "      <td>green</td>\n",
       "      <td>strawberry</td>\n",
       "      <td>[{'id': 0, 'name': 'Suarez Perry'}, {'id': 1, ...</td>\n",
       "      <td>...</td>\n",
       "      <td>e44604f0-c7a8-4b89-bda3-0f4710ebe28a</td>\n",
       "      <td>16</td>\n",
       "      <td>False</td>\n",
       "      <td>-30.662644</td>\n",
       "      <td>59.806684</td>\n",
       "      <td>Coffey Hayes</td>\n",
       "      <td>+1 (880) 451-3490</td>\n",
       "      <td>http://placehold.it/32x32</td>\n",
       "      <td>2014-04-01T23:04:39 +05:00</td>\n",
       "      <td>[duis, est, in, officia, nostrud, occaecat, mo...</td>\n",
       "    </tr>\n",
       "    <tr>\n",
       "      <th>17</th>\n",
       "      <td>54e23c3e4ac5969958013235</td>\n",
       "      <td>Dolor occaecat dolore ut tempor. Veniam elit a...</td>\n",
       "      <td>196 Columbus Place, Carbonville, New Jersey, 7513</td>\n",
       "      <td>24</td>\n",
       "      <td>$2,646.76</td>\n",
       "      <td>ACCIDENCY</td>\n",
       "      <td>leannehurst@accidency.com</td>\n",
       "      <td>brown</td>\n",
       "      <td>banana</td>\n",
       "      <td>[{'id': 0, 'name': 'Farley Frank'}, {'id': 1, ...</td>\n",
       "      <td>...</td>\n",
       "      <td>fa7e26df-d239-41e8-9aa9-be5e808b6f89</td>\n",
       "      <td>17</td>\n",
       "      <td>True</td>\n",
       "      <td>16.671695</td>\n",
       "      <td>139.707959</td>\n",
       "      <td>Leanne Hurst</td>\n",
       "      <td>+1 (820) 420-3317</td>\n",
       "      <td>http://placehold.it/32x32</td>\n",
       "      <td>2014-11-10T01:25:55 +06:00</td>\n",
       "      <td>[culpa, deserunt, tempor, quis, reprehenderit,...</td>\n",
       "    </tr>\n",
       "    <tr>\n",
       "      <th>18</th>\n",
       "      <td>54e23c3ed945981ba2580614</td>\n",
       "      <td>Veniam eiusmod exercitation culpa mollit repre...</td>\n",
       "      <td>136 Beard Street, Wattsville, New Hampshire, 2803</td>\n",
       "      <td>22</td>\n",
       "      <td>$2,227.79</td>\n",
       "      <td>ESCENTA</td>\n",
       "      <td>ewinglarson@escenta.com</td>\n",
       "      <td>brown</td>\n",
       "      <td>strawberry</td>\n",
       "      <td>[{'id': 0, 'name': 'Suzette Huffman'}, {'id': ...</td>\n",
       "      <td>...</td>\n",
       "      <td>e608dc5c-fee4-4086-971b-3ebd37bfa137</td>\n",
       "      <td>18</td>\n",
       "      <td>True</td>\n",
       "      <td>15.903555</td>\n",
       "      <td>-159.721203</td>\n",
       "      <td>Ewing Larson</td>\n",
       "      <td>+1 (943) 439-3760</td>\n",
       "      <td>http://placehold.it/32x32</td>\n",
       "      <td>2014-07-21T19:17:41 +05:00</td>\n",
       "      <td>[Lorem, magna, dolor, aliquip, reprehenderit, ...</td>\n",
       "    </tr>\n",
       "  </tbody>\n",
       "</table>\n",
       "<p>19 rows × 22 columns</p>\n",
       "</div>"
      ],
      "text/plain": [
       "                         _id  \\\n",
       "0   54e23c3e46ab53a440b580e8   \n",
       "1   54e23c3ef5cc0d250968c212   \n",
       "2   54e23c3e09cc6875638cd36b   \n",
       "3   54e23c3e54e4094147a3b1da   \n",
       "4   54e23c3e177caf5567ba87ac   \n",
       "5   54e23c3eaffbb506aa15ec1c   \n",
       "6   54e23c3e0fd8074c2ca52667   \n",
       "7   54e23c3eb112d96e4204914d   \n",
       "8   54e23c3ef30f14d0e5afddf3   \n",
       "9   54e23c3ebd80e9c26b057fa3   \n",
       "10  54e23c3e6d89c09f5507e7dd   \n",
       "11  54e23c3e4192cf53edd67c99   \n",
       "12  54e23c3eedcc65f0ec3a5496   \n",
       "13  54e23c3eb813e66c6d33aa82   \n",
       "14  54e23c3e502a2f526b689c3e   \n",
       "15  54e23c3e69d22e49c7fe62de   \n",
       "16  54e23c3e42676228c442a669   \n",
       "17  54e23c3e4ac5969958013235   \n",
       "18  54e23c3ed945981ba2580614   \n",
       "\n",
       "                                                about  \\\n",
       "0   Sit cillum deserunt irure laboris tempor fugia...   \n",
       "1   Esse quis cillum sunt occaecat ad et eu incidi...   \n",
       "2   Deserunt adipisicing proident exercitation cil...   \n",
       "3   Aliqua sunt exercitation quis cupidatat fugiat...   \n",
       "4   Irure excepteur consequat esse qui tempor dese...   \n",
       "5   Qui ad commodo elit voluptate cupidatat exerci...   \n",
       "6   Minim consequat anim ad et tempor et pariatur ...   \n",
       "7   Minim proident minim consectetur nostrud dolor...   \n",
       "8   Ullamco ea esse ullamco commodo quis amet ut a...   \n",
       "9   Sint cillum laborum labore duis fugiat volupta...   \n",
       "10  Non id adipisicing deserunt non magna ex adipi...   \n",
       "11  Aliqua sit enim cillum aliquip ad proident exc...   \n",
       "12  Voluptate exercitation ut anim ex adipisicing ...   \n",
       "13  Enim elit amet officia consectetur do Lorem re...   \n",
       "14  Consectetur mollit cupidatat ex consectetur ei...   \n",
       "15  Non in excepteur nostrud consectetur. Qui non ...   \n",
       "16  Est esse irure Lorem ullamco veniam fugiat lab...   \n",
       "17  Dolor occaecat dolore ut tempor. Veniam elit a...   \n",
       "18  Veniam eiusmod exercitation culpa mollit repre...   \n",
       "\n",
       "                                              address  age    balance  \\\n",
       "0         121 Emmons Avenue, Klondike, Kentucky, 5975   39  $2,097.02   \n",
       "1           724 Brevoort Place, Lodoga, Indiana, 3880   30  $3,654.02   \n",
       "2             941 Cox Place, Bluffview, Georgia, 5882   31  $1,536.02   \n",
       "3      518 Randolph Street, Whitestone, Arizona, 8189   20  $3,919.64   \n",
       "4   604 Just Court, Eastvale, Federated States Of ...   39  $3,681.39   \n",
       "5           101 Haring Street, Nicut, Louisiana, 1473   30  $1,694.42   \n",
       "6    569 Oakland Place, Beyerville, Puerto Rico, 2395   35  $1,214.10   \n",
       "7   808 Duryea Court, Downsville, Northern Mariana...   23  $2,930.31   \n",
       "8   684 Stratford Road, Rosine, District Of Columb...   25  $1,944.15   \n",
       "9       964 Clara Street, Snyderville, Oklahoma, 3627   37  $2,839.22   \n",
       "10        558 Charles Place, Tedrow, California, 9832   29  $2,467.31   \n",
       "11      830 Willmohr Street, Crenshaw, Missouri, 6032   21  $3,304.99   \n",
       "12    915 Channel Avenue, Clinton, North Dakota, 6244   40  $3,844.42   \n",
       "13     184 Kingsway Place, Grantville, Michigan, 2421   40  $3,594.99   \n",
       "14   278 Village Road, Sunnyside, Massachusetts, 7496   40  $2,940.24   \n",
       "15  557 Ingraham Street, Brambleton, South Dakota,...   38  $3,062.41   \n",
       "16          490 Durland Place, Craig, Tennessee, 5034   32  $3,067.82   \n",
       "17  196 Columbus Place, Carbonville, New Jersey, 7513   24  $2,646.76   \n",
       "18  136 Beard Street, Wattsville, New Hampshire, 2803   22  $2,227.79   \n",
       "\n",
       "      company                           email eyeColor favoriteFruit  \\\n",
       "0      ANDRYX          hebertestes@andryx.com     blue    strawberry   \n",
       "1   PHARMACON       allisonwynn@pharmacon.com    green         apple   \n",
       "2       QUONK           jacobsfloyd@quonk.com    brown        banana   \n",
       "3        INRT             fayhammond@inrt.com    green        banana   \n",
       "4       WAZZU          chasitymarsh@wazzu.com    green         apple   \n",
       "5    EARTHWAX      camachocortez@earthwax.com    brown         apple   \n",
       "6    TERSANKI         averyflynn@tersanki.com    green        banana   \n",
       "7    ORBIXTAR        michaelcash@orbixtar.com     blue    strawberry   \n",
       "8    KIDSTOCK      madeleinebray@kidstock.com    green    strawberry   \n",
       "9   INTRAWEAR      corinefrench@intrawear.com     blue        banana   \n",
       "10     SPLINX        trudycummings@splinx.com     blue    strawberry   \n",
       "11  ACCUPRINT        peggymayer@accuprint.com    brown    strawberry   \n",
       "12       ZEAM             chanhurley@zeam.com    brown         apple   \n",
       "13   SUREPLEX           diazpena@sureplex.com     blue    strawberry   \n",
       "14   NETPLODE     heathcastaneda@netplode.com    brown    strawberry   \n",
       "15  QUALITERN  greerblankenship@qualitern.com    brown        banana   \n",
       "16    INQUALA         coffeyhayes@inquala.com    green    strawberry   \n",
       "17  ACCIDENCY       leannehurst@accidency.com    brown        banana   \n",
       "18    ESCENTA         ewinglarson@escenta.com    brown    strawberry   \n",
       "\n",
       "                                              friends  \\\n",
       "0   [{'id': 0, 'name': 'Tanisha Leonard'}, {'id': ...   \n",
       "1   [{'id': 0, 'name': 'Curry Cox'}, {'id': 1, 'na...   \n",
       "2   [{'id': 0, 'name': 'Robles Chan'}, {'id': 1, '...   \n",
       "3   [{'id': 0, 'name': 'Dudley Booker'}, {'id': 1,...   \n",
       "4   [{'id': 0, 'name': 'Kristina Glover'}, {'id': ...   \n",
       "5   [{'id': 0, 'name': 'Sexton Tillman'}, {'id': 1...   \n",
       "6   [{'id': 0, 'name': 'Ball Henson'}, {'id': 1, '...   \n",
       "7   [{'id': 0, 'name': 'Rodgers Nolan'}, {'id': 1,...   \n",
       "8   [{'id': 0, 'name': 'Herrera Doyle'}, {'id': 1,...   \n",
       "9   [{'id': 0, 'name': 'Greta Hill'}, {'id': 1, 'n...   \n",
       "10  [{'id': 0, 'name': 'Amber Gates'}, {'id': 1, '...   \n",
       "11  [{'id': 0, 'name': 'Hopkins Mccall'}, {'id': 1...   \n",
       "12  [{'id': 0, 'name': 'Reese Grant'}, {'id': 1, '...   \n",
       "13  [{'id': 0, 'name': 'Mcmillan Knox'}, {'id': 1,...   \n",
       "14  [{'id': 0, 'name': 'Dora Mack'}, {'id': 1, 'na...   \n",
       "15  [{'id': 0, 'name': 'Woods Norman'}, {'id': 1, ...   \n",
       "16  [{'id': 0, 'name': 'Suarez Perry'}, {'id': 1, ...   \n",
       "17  [{'id': 0, 'name': 'Farley Frank'}, {'id': 1, ...   \n",
       "18  [{'id': 0, 'name': 'Suzette Huffman'}, {'id': ...   \n",
       "\n",
       "                          ...                          \\\n",
       "0                         ...                           \n",
       "1                         ...                           \n",
       "2                         ...                           \n",
       "3                         ...                           \n",
       "4                         ...                           \n",
       "5                         ...                           \n",
       "6                         ...                           \n",
       "7                         ...                           \n",
       "8                         ...                           \n",
       "9                         ...                           \n",
       "10                        ...                           \n",
       "11                        ...                           \n",
       "12                        ...                           \n",
       "13                        ...                           \n",
       "14                        ...                           \n",
       "15                        ...                           \n",
       "16                        ...                           \n",
       "17                        ...                           \n",
       "18                        ...                           \n",
       "\n",
       "                                    guid index isActive   latitude  \\\n",
       "0   9962b468-ef3e-4993-b677-617469bc3008     0    False -80.157843   \n",
       "1   905f849d-49bf-4a57-b4f3-5d6e4bf1b04c     1    False  55.737207   \n",
       "2   1b042d48-9cfa-4db5-8b60-4104165591c3     2     True  30.215667   \n",
       "3   69eb3454-8acc-46f1-a636-c6df00dfb542     3    False  33.825844   \n",
       "4   97962c85-7700-4ffa-a01e-2fcbc147fd81     4    False -31.660978   \n",
       "5   fc3e04d1-44c2-449e-891a-d4f8053d14a4     5     True  74.434627   \n",
       "6   af8d9a03-fde9-4039-b20c-c4708d4cfc3c     6    False -89.879409   \n",
       "7   95f1c020-f9eb-4a29-b236-e766759d89d0     7    False -86.621367   \n",
       "8   bde2d56f-2488-40d0-a7d2-21019ee8a18b     8    False  45.118798   \n",
       "9   75991ca5-05ed-499e-bbb5-f057f86d05d7     9     True -37.637422   \n",
       "10  87cffc18-3acf-40c5-8708-1bb93f1b68de    10     True -36.185131   \n",
       "11  5a5496f1-a027-4c21-85da-c399234cd9a5    11     True  48.323912   \n",
       "12  759a21c4-5f9c-4189-9c50-c9d8a9f31037    12    False  85.901051   \n",
       "13  6fd14a8e-3158-48eb-a7e1-93fe57b74746    13     True   6.606991   \n",
       "14  459cc82d-7878-42cb-b9c6-073506380036    14     True  69.928876   \n",
       "15  33d2bbe5-d6f7-4844-88fc-b9f6af63b373    15    False -71.093388   \n",
       "16  e44604f0-c7a8-4b89-bda3-0f4710ebe28a    16    False -30.662644   \n",
       "17  fa7e26df-d239-41e8-9aa9-be5e808b6f89    17     True  16.671695   \n",
       "18  e608dc5c-fee4-4086-971b-3ebd37bfa137    18     True  15.903555   \n",
       "\n",
       "     longitude               name              phone  \\\n",
       "0   161.930160       Hebert Estes  +1 (866) 456-2268   \n",
       "1  -167.177561       Allison Wynn  +1 (926) 525-3131   \n",
       "2    68.831905       Jacobs Floyd  +1 (853) 537-3315   \n",
       "3   -65.969538        Fay Hammond  +1 (922) 429-2592   \n",
       "4    37.559095      Chasity Marsh  +1 (976) 425-2362   \n",
       "5    69.527088     Camacho Cortez  +1 (869) 528-2019   \n",
       "6   143.441709        Avery Flynn  +1 (966) 404-2471   \n",
       "7    -4.061970       Michael Cash  +1 (996) 439-3660   \n",
       "8    -7.698707     Madeleine Bray  +1 (820) 541-2969   \n",
       "9   154.195523      Corine French  +1 (987) 573-3164   \n",
       "10  -37.774906     Trudy Cummings  +1 (925) 403-2797   \n",
       "11   22.184821        Peggy Mayer  +1 (854) 428-2585   \n",
       "12  -74.986179        Chan Hurley  +1 (917) 475-3705   \n",
       "13   81.593748          Diaz Pena  +1 (986) 511-3050   \n",
       "14   33.649878    Heath Castaneda  +1 (944) 478-3741   \n",
       "15   65.740255  Greer Blankenship  +1 (957) 482-3874   \n",
       "16   59.806684       Coffey Hayes  +1 (880) 451-3490   \n",
       "17  139.707959       Leanne Hurst  +1 (820) 420-3317   \n",
       "18 -159.721203       Ewing Larson  +1 (943) 439-3760   \n",
       "\n",
       "                      picture                  registered  \\\n",
       "0   http://placehold.it/32x32  2014-11-10T01:44:03 +06:00   \n",
       "1   http://placehold.it/32x32  2014-06-10T13:41:26 +05:00   \n",
       "2   http://placehold.it/32x32  2014-07-30T03:17:32 +05:00   \n",
       "3   http://placehold.it/32x32  2015-01-30T08:05:38 +06:00   \n",
       "4   http://placehold.it/32x32  2014-07-31T06:03:19 +05:00   \n",
       "5   http://placehold.it/32x32  2014-03-17T12:04:00 +05:00   \n",
       "6   http://placehold.it/32x32  2014-04-13T10:25:03 +05:00   \n",
       "7   http://placehold.it/32x32  2014-05-24T17:56:54 +05:00   \n",
       "8   http://placehold.it/32x32  2014-08-11T08:54:06 +05:00   \n",
       "9   http://placehold.it/32x32  2014-06-25T20:17:13 +05:00   \n",
       "10  http://placehold.it/32x32  2014-03-13T17:54:31 +05:00   \n",
       "11  http://placehold.it/32x32  2014-09-14T07:06:49 +05:00   \n",
       "12  http://placehold.it/32x32  2014-03-01T14:51:23 +06:00   \n",
       "13  http://placehold.it/32x32  2014-04-19T20:43:12 +05:00   \n",
       "14  http://placehold.it/32x32  2014-07-30T21:38:43 +05:00   \n",
       "15  http://placehold.it/32x32  2014-03-30T21:39:41 +05:00   \n",
       "16  http://placehold.it/32x32  2014-04-01T23:04:39 +05:00   \n",
       "17  http://placehold.it/32x32  2014-11-10T01:25:55 +06:00   \n",
       "18  http://placehold.it/32x32  2014-07-21T19:17:41 +05:00   \n",
       "\n",
       "                                                 tags  \n",
       "0   [sit, occaecat, non, ea, sit, laboris, exercit...  \n",
       "1   [enim, officia, laboris, irure, veniam, occaec...  \n",
       "2   [est, aute, laborum, sint, anim, sit, consecte...  \n",
       "3   [aliqua, esse, sint, pariatur, commodo, do, anim]  \n",
       "4   [aliquip, duis, irure, amet, aliquip, dolore, ...  \n",
       "5           [et, sit, in, id, ullamco, elit, laborum]  \n",
       "6   [quis, esse, Lorem, minim, nostrud, voluptate,...  \n",
       "7           [eu, sit, dolore, culpa, Lorem, in, esse]  \n",
       "8   [id, magna, excepteur, excepteur, excepteur, d...  \n",
       "9   [laboris, in, dolore, mollit, velit, laboris, ...  \n",
       "10  [aute, occaecat, ea, pariatur, consectetur, ma...  \n",
       "11      [commodo, esse, ad, ullamco, ea, sint, ipsum]  \n",
       "12    [minim, veniam, sit, aute, irure, non, eiusmod]  \n",
       "13  [excepteur, elit, ullamco, excepteur, ad, quis...  \n",
       "14  [elit, commodo, ut, ullamco, ullamco, velit, u...  \n",
       "15  [enim, eiusmod, Lorem, reprehenderit, nisi, an...  \n",
       "16  [duis, est, in, officia, nostrud, occaecat, mo...  \n",
       "17  [culpa, deserunt, tempor, quis, reprehenderit,...  \n",
       "18  [Lorem, magna, dolor, aliquip, reprehenderit, ...  \n",
       "\n",
       "[19 rows x 22 columns]"
      ]
     },
     "execution_count": 207,
     "metadata": {},
     "output_type": "execute_result"
    }
   ],
   "source": [
    "# 3. Create a data frame based on the profiles.json file. Explore this data frame's structure\n",
    "profiles_df = pd.read_json(\"profiles.json\")"
   ]
  },
  {
   "cell_type": "code",
   "execution_count": 212,
   "metadata": {},
   "outputs": [
    {
     "name": "stdout",
     "output_type": "stream",
     "text": [
      "    n\n",
      "0   1\n",
      "1   2\n",
      "2   3\n",
      "3   4\n",
      "4   5\n",
      "5   6\n",
      "6   7\n",
      "7   8\n",
      "8   9\n",
      "9  10\n"
     ]
    }
   ],
   "source": [
    "# 4. Write the code necessary to create a data frame based on the results of a SQL query to the numbers database.\n",
    "db_numbers = \"numbers\"\n",
    "\n",
    "url_numbers = f'mysql+pymysql://{user}:{password}@{host}/{db_numbers}'\n",
    "\n",
    "dbc_numbers = create_engine(url_numbers)\n",
    "\n",
    "numbers_df = pd.read_sql(\"SELECT * \"\n",
    "                         \"FROM numbers;\", dbc_numbers)\n",
    "\n",
    "print(numbers_df)"
   ]
  }
 ],
 "metadata": {
  "kernelspec": {
   "display_name": "Python 3",
   "language": "python",
   "name": "python3"
  },
  "language_info": {
   "codemirror_mode": {
    "name": "ipython",
    "version": 3
   },
   "file_extension": ".py",
   "mimetype": "text/x-python",
   "name": "python",
   "nbconvert_exporter": "python",
   "pygments_lexer": "ipython3",
   "version": "3.7.1"
  }
 },
 "nbformat": 4,
 "nbformat_minor": 2
}
